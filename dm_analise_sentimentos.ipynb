{
  "nbformat": 4,
  "nbformat_minor": 0,
  "metadata": {
    "colab": {
      "name": "dm_analise_sentimentos.ipynb",
      "provenance": [],
      "collapsed_sections": [],
      "authorship_tag": "ABX9TyNkXT08kPbaY3vXBOo9a0Re",
      "include_colab_link": true
    },
    "kernelspec": {
      "name": "python3",
      "display_name": "Python 3"
    },
    "language_info": {
      "name": "python"
    }
  },
  "cells": [
    {
      "cell_type": "markdown",
      "metadata": {
        "id": "view-in-github",
        "colab_type": "text"
      },
      "source": [
        "<a href=\"https://colab.research.google.com/github/romulets/analise-sentimentos-noticias/blob/main/dm_analise_sentimentos.ipynb\" target=\"_parent\"><img src=\"https://colab.research.google.com/assets/colab-badge.svg\" alt=\"Open In Colab\"/></a>"
      ]
    },
    {
      "cell_type": "markdown",
      "metadata": {
        "id": "9FJP9x7oKC7n"
      },
      "source": [
        "# Analise de Sentimentos\n",
        "\n",
        "Títulos de notícias rotuladas com as emoções básicas do Ekman (artigo:\n",
        "Identificando Emoções em Textos em Português do Brasil usando Máquina\n",
        "de Vetores de Suporte em Solução Multiclasse)"
      ]
    },
    {
      "cell_type": "code",
      "metadata": {
        "id": "J4I7KWgTJ_co"
      },
      "source": [
        "import pandas as pd\n",
        "import matplotlib.pyplot as plt\n",
        "import seaborn as  sns"
      ],
      "execution_count": null,
      "outputs": []
    },
    {
      "cell_type": "code",
      "metadata": {
        "colab": {
          "base_uri": "https://localhost:8080/"
        },
        "id": "PZ1KkCBFNGhV",
        "outputId": "bbe0bc2e-5e0b-4f45-af52-b61c86e5ef37"
      },
      "source": [
        "# Clone git repo\n",
        "# !rm -rf ./analise-sentimentos-noticias\n",
        "!git clone https://github.com/romulets/analise-sentimentos-noticias.git"
      ],
      "execution_count": 12,
      "outputs": [
        {
          "output_type": "stream",
          "text": [
            "Cloning into 'analise-sentimentos-noticias'...\n",
            "remote: Enumerating objects: 42, done.\u001b[K\n",
            "remote: Counting objects: 100% (42/42), done.\u001b[K\n",
            "remote: Compressing objects: 100% (41/41), done.\u001b[K\n",
            "remote: Total 42 (delta 24), reused 0 (delta 0), pack-reused 0\u001b[K\n",
            "Unpacking objects: 100% (42/42), done.\n"
          ],
          "name": "stdout"
        }
      ]
    },
    {
      "cell_type": "code",
      "metadata": {
        "id": "gFfTUNy1KCTB"
      },
      "source": [
        "df_noticias = pd.read_csv('./analise-sentimentos-noticias/g1_v2.csv', sep=\",\")"
      ],
      "execution_count": 13,
      "outputs": []
    },
    {
      "cell_type": "markdown",
      "metadata": {
        "id": "cKo3vmpsLTjM"
      },
      "source": [
        "## Visualização de dados"
      ]
    },
    {
      "cell_type": "code",
      "metadata": {
        "colab": {
          "base_uri": "https://localhost:8080/",
          "height": 206
        },
        "id": "0duae_IYSqK1",
        "outputId": "f0057062-098d-4dbd-aa85-903f61069909"
      },
      "source": [
        "df_noticias.head()"
      ],
      "execution_count": 15,
      "outputs": [
        {
          "output_type": "execute_result",
          "data": {
            "text/html": [
              "<div>\n",
              "<style scoped>\n",
              "    .dataframe tbody tr th:only-of-type {\n",
              "        vertical-align: middle;\n",
              "    }\n",
              "\n",
              "    .dataframe tbody tr th {\n",
              "        vertical-align: top;\n",
              "    }\n",
              "\n",
              "    .dataframe thead th {\n",
              "        text-align: right;\n",
              "    }\n",
              "</style>\n",
              "<table border=\"1\" class=\"dataframe\">\n",
              "  <thead>\n",
              "    <tr style=\"text-align: right;\">\n",
              "      <th></th>\n",
              "      <th>texto</th>\n",
              "      <th>classe</th>\n",
              "    </tr>\n",
              "  </thead>\n",
              "  <tbody>\n",
              "    <tr>\n",
              "      <th>0</th>\n",
              "      <td>Hospital de campanha começa a funcionar em Cax...</td>\n",
              "      <td>alegria</td>\n",
              "    </tr>\n",
              "    <tr>\n",
              "      <th>1</th>\n",
              "      <td>Estudo indica que chimpanzés são capazes de ap...</td>\n",
              "      <td>alegria</td>\n",
              "    </tr>\n",
              "    <tr>\n",
              "      <th>2</th>\n",
              "      <td>STF nega ação que pedia a revogação de artigos...</td>\n",
              "      <td>alegria</td>\n",
              "    </tr>\n",
              "    <tr>\n",
              "      <th>3</th>\n",
              "      <td>Exército chinês faz demonstração de habilidade...</td>\n",
              "      <td>alegria</td>\n",
              "    </tr>\n",
              "    <tr>\n",
              "      <th>4</th>\n",
              "      <td>Zoológico alemão apresenta tigresas quadrigême...</td>\n",
              "      <td>alegria</td>\n",
              "    </tr>\n",
              "  </tbody>\n",
              "</table>\n",
              "</div>"
            ],
            "text/plain": [
              "                                               texto   classe\n",
              "0  Hospital de campanha começa a funcionar em Cax...  alegria\n",
              "1  Estudo indica que chimpanzés são capazes de ap...  alegria\n",
              "2  STF nega ação que pedia a revogação de artigos...  alegria\n",
              "3  Exército chinês faz demonstração de habilidade...  alegria\n",
              "4  Zoológico alemão apresenta tigresas quadrigême...  alegria"
            ]
          },
          "metadata": {
            "tags": []
          },
          "execution_count": 15
        }
      ]
    }
  ]
}